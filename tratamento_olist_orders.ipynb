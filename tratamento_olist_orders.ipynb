{
  "cells": [
    {
      "cell_type": "code",
      "execution_count": 32,
      "metadata": {
        "id": "dXNsfeH2d_5z"
      },
      "outputs": [],
      "source": [
        "import pandas as pd\n",
        "import os"
      ]
    },
    {
      "cell_type": "code",
      "execution_count": 33,
      "metadata": {
        "colab": {
          "base_uri": "https://localhost:8080/"
        },
        "id": "yFTG4CpTeHSZ",
        "outputId": "89e08c26-a7e6-4a82-d89b-2b437a9fa4b0"
      },
      "outputs": [
        {
          "name": "stdout",
          "output_type": "stream",
          "text": [
            "                           order_id                       customer_id  \\\n",
            "0  e481f51cbdc54678b7cc49136f2d6af7  9ef432eb6251297304e76186b10a928d   \n",
            "1  53cdb2fc8bc7dce0b6741e2150273451  b0830fb4747a6c6d20dea0b8c802d7ef   \n",
            "2  47770eb9100c2d0c44946d9cf07ec65d  41ce2a54c0b03bf3443c3d931a367089   \n",
            "3  949d5b44dbf5de918fe9c16f97b45f8a  f88197465ea7920adcdbec7375364d82   \n",
            "4  ad21c59c0840e6cb83a9ceb5573f8159  8ab97904e6daea8866dbdbc4fb7aad2c   \n",
            "\n",
            "  order_status order_purchase_timestamp    order_approved_at  \\\n",
            "0    delivered      2017-10-02 10:56:33  2017-10-02 11:07:15   \n",
            "1    delivered      2018-07-24 20:41:37  2018-07-26 03:24:27   \n",
            "2    delivered      2018-08-08 08:38:49  2018-08-08 08:55:23   \n",
            "3    delivered      2017-11-18 19:28:06  2017-11-18 19:45:59   \n",
            "4    delivered      2018-02-13 21:18:39  2018-02-13 22:20:29   \n",
            "\n",
            "  order_delivered_carrier_date order_delivered_customer_date  \\\n",
            "0          2017-10-04 19:55:00           2017-10-10 21:25:13   \n",
            "1          2018-07-26 14:31:00           2018-08-07 15:27:45   \n",
            "2          2018-08-08 13:50:00           2018-08-17 18:06:29   \n",
            "3          2017-11-22 13:39:59           2017-12-02 00:28:42   \n",
            "4          2018-02-14 19:46:34           2018-02-16 18:17:02   \n",
            "\n",
            "  order_estimated_delivery_date  \n",
            "0           2017-10-18 00:00:00  \n",
            "1           2018-08-13 00:00:00  \n",
            "2           2018-09-04 00:00:00  \n",
            "3           2017-12-15 00:00:00  \n",
            "4           2018-02-26 00:00:00  \n"
          ]
        }
      ],
      "source": [
        "df = pd.read_csv('data/dados_auxiliares/olist_orders_dataset.csv')\n",
        "print(df.head())\n"
      ]
    },
    {
      "cell_type": "code",
      "execution_count": 34,
      "metadata": {
        "id": "7DNqy44Lej0x"
      },
      "outputs": [],
      "source": [
        "df = df.dropna(subset=['order_id', 'customer_id', 'order_status'])"
      ]
    },
    {
      "cell_type": "code",
      "execution_count": 35,
      "metadata": {
        "id": "fuqLEKTweoMv"
      },
      "outputs": [],
      "source": [
        "# 4. Converter colunas de data\n",
        "df['order_purchase_timestamp'] = pd.to_datetime(df['order_purchase_timestamp'])"
      ]
    },
    {
      "cell_type": "code",
      "execution_count": 36,
      "metadata": {
        "id": "CNNyvhR6hcst"
      },
      "outputs": [],
      "source": [
        "# 5. Criar a pasta 'dados_tratados' se não existir\n",
        "os.makedirs('dados_tratados', exist_ok=True)"
      ]
    },
    {
      "cell_type": "code",
      "execution_count": 37,
      "metadata": {
        "colab": {
          "base_uri": "https://localhost:8080/"
        },
        "id": "aI4ZQficpjRE",
        "outputId": "746ad21c-4c48-40fb-b8c7-c24305d14099"
      },
      "outputs": [
        {
          "name": "stdout",
          "output_type": "stream",
          "text": [
            "✅ Arquivo tratado salvo com sucesso!\n"
          ]
        }
      ],
      "source": [
        "# 6. Salvar arquivo tratado\n",
        "df.to_csv('dados_tratados/olist_orders_tratado.csv', index=False)\n",
        "print(\"✅ Arquivo tratado salvo com sucesso!\")"
      ]
    },
    {
      "cell_type": "markdown",
      "metadata": {
        "id": "o31HPfN6fokK"
      },
      "source": [
        "# Tratamento olist_customers_dataset\n",
        "\n"
      ]
    },
    {
      "cell_type": "code",
      "execution_count": 38,
      "metadata": {
        "id": "k4CaIZEspqVK"
      },
      "outputs": [],
      "source": [
        "df_clientes = pd.read_csv(\"data/dados_auxiliares/olist_customers_dataset.csv\")"
      ]
    },
    {
      "cell_type": "code",
      "execution_count": 39,
      "metadata": {
        "id": "EEB9kTqwgRqv"
      },
      "outputs": [],
      "source": [
        "dim_cliente = df_clientes[[\n",
        "    \"customer_id\",\n",
        "    \"customer_unique_id\",\n",
        "    \"customer_city\",\n",
        "    \"customer_state\"\n",
        "]].drop_duplicates()"
      ]
    },
    {
      "cell_type": "code",
      "execution_count": 40,
      "metadata": {},
      "outputs": [],
      "source": [
        "# Renomear colunas\n",
        "dim_cliente = dim_cliente.rename(columns={\n",
        "    \"customer_id\": \"id_cliente\",\n",
        "    \"customer_unique_id\": \"id_cliente_unico\",\n",
        "    \"customer_city\": \"cidade_cliente\",\n",
        "    \"customer_state\": \"estado_cliente\"\n",
        "})"
      ]
    },
    {
      "cell_type": "code",
      "execution_count": 41,
      "metadata": {
        "id": "rsK2glZKgXs5"
      },
      "outputs": [],
      "source": [
        "os.makedirs(\"dimensoes\", exist_ok=True)\n",
        "dim_cliente.to_csv(\"dimensoes/dim_cliente.csv\", index=False)"
      ]
    },
    {
      "cell_type": "markdown",
      "metadata": {
        "id": "psi6K_73gcCw"
      },
      "source": [
        "# Tratamento olist_products_dataset"
      ]
    },
    {
      "cell_type": "code",
      "execution_count": 42,
      "metadata": {
        "id": "at7S_SF37baO"
      },
      "outputs": [],
      "source": [
        "df_prod = pd.read_csv(\"data/dados_auxiliares/olist_products_dataset.csv\")"
      ]
    },
    {
      "cell_type": "code",
      "execution_count": 43,
      "metadata": {
        "id": "SB5HaHm97qh_"
      },
      "outputs": [],
      "source": [
        "df_cat = pd.read_csv(\"data/dados_auxiliares/product_category_name_translation.csv\")"
      ]
    },
    {
      "cell_type": "code",
      "execution_count": 44,
      "metadata": {
        "id": "3L5yeNTg7vVA"
      },
      "outputs": [],
      "source": [
        "dim_produto = df_prod.merge(df_cat, how=\"left\", on=\"product_category_name\")\n",
        "dim_produto = dim_produto[[\n",
        "    \"product_id\",\n",
        "    \"product_category_name\",\n",
        "    \"product_category_name_english\",\n",
        "    \"product_name_lenght\",\n",
        "    \"product_description_lenght\",\n",
        "    \"product_weight_g\"\n",
        "]].drop_duplicates()"
      ]
    },
    {
      "cell_type": "code",
      "execution_count": 45,
      "metadata": {},
      "outputs": [],
      "source": [
        "# Renomear colunas\n",
        "dim_produto = dim_produto.rename(columns={\n",
        "    \"product_id\": \"id_produto\",\n",
        "    \"product_category_name\": \"nome_categoria\",\n",
        "    \"product_category_name_english\": \"nome_categoria_ingles\",\n",
        "    \"product_name_lenght\": \"tamanho_nome\",\n",
        "    \"product_description_lenght\": \"tamanho_descricao\",\n",
        "    \"product_weight_g\": \"peso_gramas\"\n",
        "})"
      ]
    },
    {
      "cell_type": "code",
      "execution_count": 46,
      "metadata": {
        "id": "93Lz57Kf7y6S"
      },
      "outputs": [],
      "source": [
        "os.makedirs(\"dimensoes\", exist_ok=True)\n",
        "dim_produto.to_csv(\"dimensoes/dim_produto.csv\", index=False)"
      ]
    },
    {
      "cell_type": "markdown",
      "metadata": {
        "id": "B8aa_Z7MgMY7"
      },
      "source": [
        "# Tratamento olist_sellers_dataset"
      ]
    },
    {
      "cell_type": "code",
      "execution_count": 47,
      "metadata": {
        "id": "MiVtVFf08K2D"
      },
      "outputs": [],
      "source": [
        "df_sellers = pd.read_csv(\"data/dados_auxiliares/olist_sellers_dataset.csv\")"
      ]
    },
    {
      "cell_type": "code",
      "execution_count": 48,
      "metadata": {
        "id": "K-A5v__o8Ped"
      },
      "outputs": [],
      "source": [
        "dim_vendedor = df_sellers[[\n",
        "    \"seller_id\",\n",
        "    \"seller_city\",\n",
        "    \"seller_state\"\n",
        "]].drop_duplicates()"
      ]
    },
    {
      "cell_type": "code",
      "execution_count": 49,
      "metadata": {},
      "outputs": [],
      "source": [
        "dim_vendedor = dim_vendedor.rename(columns={\n",
        "    \"seller_id\": \"id_vendedor\",\n",
        "    \"seller_city\": \"cidade_vendedor\",\n",
        "    \"seller_state\": \"estado_vendedor\"\n",
        "})"
      ]
    },
    {
      "cell_type": "code",
      "execution_count": 50,
      "metadata": {
        "id": "Zq6ht6Kt8bXo"
      },
      "outputs": [],
      "source": [
        "os.makedirs(\"dimensoes\", exist_ok=True)"
      ]
    },
    {
      "cell_type": "code",
      "execution_count": 51,
      "metadata": {
        "id": "t4abIeiA8dSD"
      },
      "outputs": [],
      "source": [
        "dim_vendedor.to_csv(\"dimensoes/dim_vendedor.csv\", index=False)\n"
      ]
    },
    {
      "cell_type": "markdown",
      "metadata": {
        "id": "1yyWkJuM95UB"
      },
      "source": [
        "# Tratamento olist_orders_dataset"
      ]
    },
    {
      "cell_type": "code",
      "execution_count": 52,
      "metadata": {
        "id": "nNeEtfbw8ePC"
      },
      "outputs": [],
      "source": [
        "df_orders = pd.read_csv(\"data/dados_auxiliares/olist_orders_dataset.csv\")\n"
      ]
    },
    {
      "cell_type": "code",
      "execution_count": 53,
      "metadata": {
        "id": "rfXHrt15-EFW"
      },
      "outputs": [],
      "source": [
        "dim_tempo = df_orders[[\"order_purchase_timestamp\"]].dropna().drop_duplicates()\n",
        "dim_tempo[\"data\"] = pd.to_datetime(dim_tempo[\"order_purchase_timestamp\"]).dt.date\n",
        "dim_tempo[\"ano\"] = pd.to_datetime(dim_tempo[\"order_purchase_timestamp\"]).dt.year\n",
        "dim_tempo[\"mes\"] = pd.to_datetime(dim_tempo[\"order_purchase_timestamp\"]).dt.month\n",
        "dim_tempo[\"dia\"] = pd.to_datetime(dim_tempo[\"order_purchase_timestamp\"]).dt.day\n",
        "dim_tempo[\"dia_semana\"] = pd.to_datetime(dim_tempo[\"order_purchase_timestamp\"]).dt.day_name()\n",
        "dim_tempo[\"trimestre\"] = pd.to_datetime(dim_tempo[\"order_purchase_timestamp\"]).dt.quarter\n"
      ]
    },
    {
      "cell_type": "code",
      "execution_count": 54,
      "metadata": {
        "id": "3gBpRtR3-Jmf"
      },
      "outputs": [],
      "source": [
        "dim_tempo = dim_tempo.drop(columns=[\"order_purchase_timestamp\"]).drop_duplicates()\n"
      ]
    },
    {
      "cell_type": "code",
      "execution_count": 55,
      "metadata": {},
      "outputs": [],
      "source": [
        "dim_tempo = dim_tempo.rename(columns={\n",
        "    \"data\": \"data\",\n",
        "    \"ano\": \"ano\",\n",
        "    \"mes\": \"mes\",\n",
        "    \"dia\": \"dia\",\n",
        "    \"dia_semana\": \"dia_da_semana\",\n",
        "    \"trimestre\": \"trimestre\"\n",
        "})"
      ]
    },
    {
      "cell_type": "code",
      "execution_count": 56,
      "metadata": {
        "id": "JNi80vI6-Jzm"
      },
      "outputs": [],
      "source": [
        "os.makedirs(\"dimensoes\", exist_ok=True)\n",
        "dim_tempo.to_csv(\"dimensoes/dim_tempo.csv\", index=False)"
      ]
    },
    {
      "cell_type": "markdown",
      "metadata": {
        "id": "03mTkRni-bnu"
      },
      "source": [
        "# etl_fato_vendas"
      ]
    },
    {
      "cell_type": "code",
      "execution_count": 57,
      "metadata": {
        "id": "9FG6UfKk-Wxs"
      },
      "outputs": [],
      "source": [
        "df_items = pd.read_csv(\"data/dados_auxiliares/olist_order_items_dataset.csv\")"
      ]
    },
    {
      "cell_type": "code",
      "execution_count": 58,
      "metadata": {
        "id": "jCcnnwwe-eaq"
      },
      "outputs": [],
      "source": [
        "df_orders = pd.read_csv(\"data/dados_auxiliares/olist_orders_dataset.csv\")"
      ]
    },
    {
      "cell_type": "code",
      "execution_count": 59,
      "metadata": {
        "id": "jdEn35CP-gzZ"
      },
      "outputs": [],
      "source": [
        "df_payments = pd.read_csv(\"data/dados_auxiliares/olist_order_payments_dataset.csv\")"
      ]
    },
    {
      "cell_type": "code",
      "execution_count": 60,
      "metadata": {
        "id": "FDpPYRHC-iNf"
      },
      "outputs": [],
      "source": [
        "df_reviews = pd.read_csv(\"data/dados_auxiliares/olist_order_reviews_dataset.csv\")"
      ]
    },
    {
      "cell_type": "code",
      "execution_count": 61,
      "metadata": {
        "id": "s0czCVcY-kZu"
      },
      "outputs": [],
      "source": [
        "# Join principal: order_items + orders + customer_id\n",
        "fato_vendas = df_items.merge(df_orders[['order_id', 'customer_id', 'order_purchase_timestamp', 'order_delivered_customer_date']], \n",
        "                             on=\"order_id\", how=\"left\")"
      ]
    },
    {
      "cell_type": "code",
      "execution_count": 62,
      "metadata": {
        "id": "Hxr-qMdf-oKe"
      },
      "outputs": [],
      "source": [
        "# Pagamentos: usar apenas um tipo por pedido\n",
        "df_pagamentos_unicos = df_payments.drop_duplicates(subset=[\"order_id\"])\n",
        "fato_vendas = fato_vendas.merge(df_pagamentos_unicos, on=\"order_id\", how=\"left\")\n"
      ]
    },
    {
      "cell_type": "code",
      "execution_count": 63,
      "metadata": {
        "id": "UVkMsjy4-qh0"
      },
      "outputs": [],
      "source": [
        "# Reviews: nota da avaliação\n",
        "df_reviews_simples = df_reviews[[\"order_id\", \"review_score\"]].drop_duplicates()\n",
        "fato_vendas = fato_vendas.merge(df_reviews_simples, on=\"order_id\", how=\"left\")\n"
      ]
    },
    {
      "cell_type": "code",
      "execution_count": 64,
      "metadata": {
        "id": "nYRjjL64-tWe"
      },
      "outputs": [],
      "source": [
        "# Seleciona colunas da fato\n",
        "fato_vendas = fato_vendas.rename(columns={\n",
        "    \"order_id\": \"id_pedido\",\n",
        "    \"customer_id\": \"id_cliente\",\n",
        "    \"order_item_id\": \"id_item_pedido\",\n",
        "    \"product_id\": \"id_produto\",\n",
        "    \"seller_id\": \"id_vendedor\",\n",
        "    \"price\": \"preco\",\n",
        "    \"freight_value\": \"valor_frete\",\n",
        "    \"payment_type\": \"tipo_pagamento\",\n",
        "    \"payment_value\": \"valor_pagamento\",\n",
        "    \"review_score\": \"nota_avaliacao\",\n",
        "    \"order_purchase_timestamp\": \"data_compra\",\n",
        "    \"order_delivered_customer_date\": \"data_entrega\"\n",
        "})\n"
      ]
    },
    {
      "cell_type": "code",
      "execution_count": 65,
      "metadata": {
        "id": "IRNfns9A-vd_"
      },
      "outputs": [],
      "source": [
        "# Apenas salve diretamente, sem tentar criar a pasta\n",
        "# Cria a pasta se ela não existir\n",
        "os.makedirs(\"dados_tratados\", exist_ok=True)\n",
        "\n",
        "# Salva o arquivo dentro da pasta\n",
        "fato_vendas.to_csv(\"dados_tratados/fato_vendas.csv\", index=False)\n"
      ]
    },
    {
      "cell_type": "code",
      "execution_count": 66,
      "metadata": {
        "colab": {
          "base_uri": "https://localhost:8080/",
          "height": 17
        },
        "id": "2aOaeSWYB48m",
        "outputId": "ef62ad57-46a1-4f9c-a2eb-75100aa645e3"
      },
      "outputs": [],
      "source": [
        "# Salva o arquivo diretamente no diretório padrão do Colab (/content)\n",
        "fato_vendas.to_csv(\"fato_vendas.csv\", index=False)\n",
        "\n",
        "\n"
      ]
    },
    {
      "cell_type": "code",
      "execution_count": null,
      "metadata": {
        "id": "oSkhEAzn_CYS"
      },
      "outputs": [],
      "source": []
    },
    {
      "cell_type": "code",
      "execution_count": null,
      "metadata": {
        "id": "NmX4-njAQuai"
      },
      "outputs": [],
      "source": []
    },
    {
      "cell_type": "code",
      "execution_count": null,
      "metadata": {
        "id": "WBMB8OD9QwLQ"
      },
      "outputs": [],
      "source": []
    },
    {
      "cell_type": "code",
      "execution_count": null,
      "metadata": {
        "id": "bMeL6W1VQzUP"
      },
      "outputs": [],
      "source": []
    },
    {
      "cell_type": "code",
      "execution_count": null,
      "metadata": {
        "id": "w9jnMtT7Q7YI"
      },
      "outputs": [],
      "source": []
    },
    {
      "cell_type": "code",
      "execution_count": null,
      "metadata": {
        "colab": {
          "base_uri": "https://localhost:8080/"
        },
        "id": "NxBAWYUbQ-Ab",
        "outputId": "646298eb-a0e9-49f6-857f-7c53215d6f57"
      },
      "outputs": [],
      "source": []
    },
    {
      "cell_type": "code",
      "execution_count": null,
      "metadata": {
        "id": "v3ALx2dSQ_gg"
      },
      "outputs": [],
      "source": []
    },
    {
      "cell_type": "code",
      "execution_count": null,
      "metadata": {
        "colab": {
          "base_uri": "https://localhost:8080/"
        },
        "id": "Vh6_Ab6XRFzX",
        "outputId": "69b4af7d-4409-4fc5-de08-3569feb02f76"
      },
      "outputs": [],
      "source": []
    },
    {
      "cell_type": "code",
      "execution_count": null,
      "metadata": {
        "colab": {
          "base_uri": "https://localhost:8080/"
        },
        "id": "YcYD1huURNYJ",
        "outputId": "3dc28b40-ccf7-48d5-b94b-92362a2bdda8"
      },
      "outputs": [],
      "source": []
    }
  ],
  "metadata": {
    "colab": {
      "provenance": []
    },
    "kernelspec": {
      "display_name": "venv",
      "language": "python",
      "name": "python3"
    },
    "language_info": {
      "codemirror_mode": {
        "name": "ipython",
        "version": 3
      },
      "file_extension": ".py",
      "mimetype": "text/x-python",
      "name": "python",
      "nbconvert_exporter": "python",
      "pygments_lexer": "ipython3",
      "version": "3.11.5"
    }
  },
  "nbformat": 4,
  "nbformat_minor": 0
}
